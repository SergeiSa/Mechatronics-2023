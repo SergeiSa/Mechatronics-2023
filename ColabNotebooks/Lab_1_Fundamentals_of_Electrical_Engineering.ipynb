{
  "nbformat": 4,
  "nbformat_minor": 0,
  "metadata": {
    "colab": {
      "provenance": [],
      "include_colab_link": true
    },
    "kernelspec": {
      "name": "python3",
      "display_name": "Python 3"
    },
    "language_info": {
      "name": "python"
    }
  },
  "cells": [
    {
      "cell_type": "markdown",
      "metadata": {
        "id": "view-in-github",
        "colab_type": "text"
      },
      "source": [
        "<a href=\"https://colab.research.google.com/github/SergeiSa/Mechatronics-2023/blob/main/ColabNotebooks/Lab_1_Fundamentals_of_Electrical_Engineering.ipynb\" target=\"_parent\"><img src=\"https://colab.research.google.com/assets/colab-badge.svg\" alt=\"Open In Colab\"/></a>"
      ]
    },
    {
      "cell_type": "markdown",
      "source": [
        "# **Mechatronics. Course introduction**"
      ],
      "metadata": {
        "id": "-g9_RMpEUafG"
      }
    },
    {
      "cell_type": "markdown",
      "source": [
        "## **Course grade breakdown**\n",
        "\n",
        "> **Labs** \\\\\n",
        "You will have 3 labs in offline format. As a result of each lab, you will write a report that will be graded.\n",
        "I **strongly** recomended to complete tasks during labs. \\\n",
        "\n",
        "> **Practices** \\\\\n",
        "In practice, you will solve problems in Google Colab notebooks and at white board.\\\n",
        "Prerequisites for practice:\n",
        "We will use a [Python](http://www.datasciencefree.com/python.pdf) programming language and following libraries:\n",
        ">*   [NumPy](https://s3.amazonaws.com/dq-blog-files/numpy-cheat-sheet.pdf)\n",
        "*   [SciPy](https://s3.amazonaws.com/assets.datacamp.com/blog_assets/Python_SciPy_Cheat_Sheet_Linear_Algebra.pdf)\n",
        "*   [Matplotlib](https://s3.amazonaws.com/assets.datacamp.com/blog_assets/Python_Matplotlib_Cheat_Sheet.pdf)"
      ],
      "metadata": {
        "id": "l5xchKPzVUCe"
      }
    },
    {
      "cell_type": "markdown",
      "source": [
        "## **About me**\n",
        "My name is Valeria Skvortsova. I'm master in Robotics and 4 year PhD student in IU. \\\\\n",
        "\\\n",
        "***Office hours:*** When I'm in Innopolis, you can write to me about an appointment and come up to 105a lab. When I am outside of Innopolis I solve all questions via telegram  \\\\\n",
        "Please don't disturb me with messages at night (after 8:00 PM and before 8:00 AM) and on weekends\n",
        "\n",
        ">**For contacts:** \\\\\n",
        "*t-me:* @valeriaskvo \\\\\n",
        "*e-mail:* v.skvortsova@innopolis.university \\\\\n",
        "*instagram:* valeria_skv \\\\"
      ],
      "metadata": {
        "id": "haoY_7EfUa46"
      }
    },
    {
      "cell_type": "markdown",
      "source": [
        "# **Lab 1. Fundamentals of Electrical Engineering**\n"
      ],
      "metadata": {
        "id": "WcZ5HSngJUz0"
      }
    },
    {
      "cell_type": "markdown",
      "source": [
        "The objectives of today's lab:\n",
        "1. To learn how to use a multimeter\n",
        "2. To learn how to identify the rating of resistors by color coding\n",
        "3. To learn how to assemble electric circuits according to a diagram"
      ],
      "metadata": {
        "id": "g-Ac_Wk-WvCA"
      }
    },
    {
      "cell_type": "markdown",
      "source": [
        "## **Multimeter**\n",
        "A multimeter is a measuring instrument that can measure multiple electrical properties. A typical multimeter can measure voltage, resistance, and current, in which case it is also known as a volt-ohm-milliammeter (VOM), as the unit is equipped with voltmeter, ammeter, and ohmmeter functionality. Some feature the measurement of additional properties such as temperature and capacitance.\n",
        "\n",
        "Analog multimeters use a microammeter with a moving pointer to display readings. Digital multimeters (DMM, DVOM) have numeric displays and have made analog multimeters virtually obsolete as they are cheaper, more precise, and more physically robust than analog multimeters.\n",
        "\n",
        "[Instructions for use of the laboratory multimeter in Russian.](https://docs.yandex.ru/docs/view?url=ya-browser%3A%2F%2F4DT1uXEPRrJRXlUFoewruKayhNNmr8XiMWhuclULjUIwapj82VpiGMSCtKUEEAShzPXdJEROL0F-ePfKWFiIesYumCyhpZDNJsji8IBeISGB-Wqh5KWkhGbmduBep4pYPcWx6tG7iEPFlAvNFS2hgg%3D%3D%3Fsign%3DJNPNvOp3O36iwGIXnITjNX56Z87tjHOc4b3L7OlFfaE%3D&name=OT-INM25%2C26.docx)"
      ],
      "metadata": {
        "id": "Xsu_VCYEbATG"
      }
    },
    {
      "cell_type": "markdown",
      "source": [
        "![multimeter](https://drive.google.com/uc?export=view&id=1tj486CsZzRMdav8j7eT6LWBRdoppu0yW)"
      ],
      "metadata": {
        "id": "ZOhYFxjmzAxk"
      }
    },
    {
      "cell_type": "markdown",
      "source": [
        "### **DC measurement**\n",
        "1. Connect the red wire to the VΩmA connector (for measurements up to 200mA, if you want to measure current between 200mA and 10mA, connect the wire to the 10A connector). Connect the black wire to the COM connector.\n",
        "2. Set the switch to the desired position for DC measurement. If you do not know beforehand the range of the measured values, then check the maximum range first.\n",
        "3. **Open the circuit** to be measured and connect the measurement contacts to the load in which the current is to be measured. **The connection of the ammeter in the circuit must be in series.**\n",
        "4. Read the current value on the digital display.\n",
        "5. **The maximum measurement time is 15 seconds.**"
      ],
      "metadata": {
        "id": "6dWflel90EDW"
      }
    },
    {
      "cell_type": "markdown",
      "source": [
        "![ammeter](https://drive.google.com/uc?export=view&id=1Qk9977x23i-pMLIsSP-SivtGqcmlrY2G)"
      ],
      "metadata": {
        "id": "QGVpiPwUc1WM"
      }
    },
    {
      "cell_type": "markdown",
      "source": [
        "### **Voltage measurement**\n",
        "1. Connect the red wire to the VΩmA connector. Connect the black wire to the COM connector.\n",
        "2. Set the switch to the desired position for voltage measurement. If you do not know beforehand the range of the measured values, then check the maximum range first.\n",
        "3. Connect the measurement contacts to the device or circuit to be measured. **The voltmeter is connected to the circuit in parallel.**\n",
        "4. Read the voltage value on the digital display."
      ],
      "metadata": {
        "id": "e4x5RtaczlxX"
      }
    },
    {
      "cell_type": "markdown",
      "source": [
        "![voltmeter](https://drive.google.com/uc?export=view&id=1wtMqzPoDLTyBqviC5OgYVVHToAOWhzSQ)"
      ],
      "metadata": {
        "id": "3CTVFxNZcedS"
      }
    },
    {
      "cell_type": "markdown",
      "source": [
        "### **Resistance measurement**\n",
        "1. Connect the red wire to the VΩmA connector. Connect the black wire to the COM connector.\n",
        "2. Set the switch to the desired position for voltage measurement. If you do not know beforehand the range of the measured values, then check the maximum range first.\n",
        "3. If the resistance to be measured is connected to a circuit, **turn off the power and discharge all capacitors** before measuring.\n",
        "4. Connect the measuring contacts to the circuit to be measured\n",
        "5. Read the voltage value on the digital display.\n"
      ],
      "metadata": {
        "id": "p2uMt4-rdFGu"
      }
    },
    {
      "cell_type": "markdown",
      "source": [
        "### **HOW NOT TO DO IT!**\n"
      ],
      "metadata": {
        "id": "Zw2Mbqc7f0vW"
      }
    },
    {
      "cell_type": "markdown",
      "source": [
        "**1. Measure the current in the outlet or battery**\n",
        "The only thing you can measure in an outlet with a multimeter is the AC voltage.\n",
        "\n",
        ">*Never insert the test pins into the sockets of an outlet with the mode switch in the \"metering current\" position!*\n",
        "\n",
        "![dont_do_it_1](https://drive.google.com/uc?export=view&id=1l5jRxNn3k3-OA_KcrKuZll2mfn90Pc4Z)\n",
        "\n",
        "![dont_do_it_2](https://drive.google.com/uc?export=view&id=16pjbn-zs4rcG7ftiqhMvs4YfVUXggpRZ)"
      ],
      "metadata": {
        "id": "47BnS3LNgpsd"
      }
    },
    {
      "cell_type": "markdown",
      "source": [
        "**2. If the multimeter is lying, you should change the battery in it.**"
      ],
      "metadata": {
        "id": "cL9Oe-bEhoBm"
      }
    },
    {
      "cell_type": "markdown",
      "source": [
        "**3. Currents up to 10A cannot be measured for more than 10 seconds.**\n",
        "\n",
        "Very often such currents appear when testing the functionality of batteries. The battery is short-circuited through the multimeter and its current is monitored. The current shunt gets very hot when measuring large values and can burn out.\n",
        "\n",
        ">*Multimeters are not designed for long-term monitoring of measured values. All measurements with them are made for short periods of time.*\n",
        "\n",
        "![dont_do_it_3](https://drive.google.com/uc?export=view&id=1vrqN-jFksdbkuueSWpjXjUC4XIGMNrez)\n",
        "\n",
        "![dont_do_it_4](https://drive.google.com/uc?export=view&id=1_7Lo0YljQC8Wcoe1g2zqJ2ANICpE0AH0)"
      ],
      "metadata": {
        "id": "CJF0oO-Fh6hE"
      }
    },
    {
      "cell_type": "markdown",
      "source": [
        "**4. Do not touch the test pins with your hands.**\n",
        "Very often with a multimeter we need to know how much resistance a particular circuit element, circuit section or some device has. This is done in resistance measurement mode (ohms, milli-ohms, micro-ohms, etc.).\n",
        "\n",
        ">*Never touch the tips of the probes with your bare hands when doing this measurement! Our body has its own resistance (up to 10 kOhm), and in this case it will introduce an error in the results of measurements.*\n",
        "\n",
        "The same applies to resistance measurements inside circuits, without unsoldering elements. Resistance of neighboring parts can significantly distort the data.\n",
        "\n",
        "![dont_do_it_5](https://drive.google.com/uc?export=view&id=19RFN2mA-q5OITpUsPvoj20iKKsjCjXhx)"
      ],
      "metadata": {
        "id": "EGkHdcUDjjr8"
      }
    },
    {
      "cell_type": "markdown",
      "source": [
        "## **Resistor Color-coding**\n",
        "Color-coding is a method used to indicate the resistive value, tolerance, and temperature coefficient of resistors with low wattage rating because of their small size. Color bands are used because they can be easily and cheaply printed on a small electronic component. Color-coding is also used for capacitors, inductors and diodes.\n",
        "\n",
        "When the resistor body surface is large enough, as in large wattage resistors, the resistance value, tolerance, and wattage are usually printed on the body of the resistor. Surface mounted resistors (SMD) use another coding system that uses alphanumeric codes printed on its surface instead of color codes.\n",
        "\n",
        "The coding is defined in the international standard [IEC 60062:2016](https://www.sis.se/api/document/preview/8021442/). It describes the coding standard for both resistors and capacitors."
      ],
      "metadata": {
        "id": "vVWojbY3Zj2v"
      }
    },
    {
      "cell_type": "markdown",
      "source": [
        "![resistor_color_code](https://drive.google.com/uc?export=view&id=12U22ARuy72vk5A5qWtLqG6rr11vyz14X)"
      ],
      "metadata": {
        "id": "xI_l4lPHzQct"
      }
    },
    {
      "cell_type": "markdown",
      "source": [
        "### **Reading Color Codes**\n",
        "Resistors cases usually have three to six bands that indicate their resistance, tolerance and sometimes their temperature coefficient of resistance (TCR). The bands are read from left to right.\n",
        "\n",
        "The reading direction is not always clear. To distinguish the reading direction, ***the tolerance band width is sometimes printed with 1.5 - 2 times the width of other bands***. A larger gap between the tolerance band and the other bands is sometimes noticeable. If a gold or silver band is present, then they must be at the right end since they are never used for significant digits. It is always better to check the manufacturer’s documentation or use a multimeter to get the exact resistance value.\n",
        "\n",
        "In a three-band resistor, the first two bands represent the first two significant digits followed by one band for the multiplier. Since no tolerance band is available, the tolerance will always be ±20%.\n",
        "\n",
        "In a four-band resistor, which is the most common, the first two bands also represent the first two significant digits. The third band represents the multiplier. The fourth band represents the tolerance.\n",
        "\n",
        "In a five-band resistor, the first three bands represent the first three significant digits. The fourth band represents the multiplier. The fifth band represents the tolerance.\n",
        "\n",
        "In a six-band resistor, the first five bands have the same representation as a five-band resistor followed by one extra sixth band that represents the temperature coefficient of resistance (TCR)."
      ],
      "metadata": {
        "id": "Ogpf6VdJamhy"
      }
    },
    {
      "cell_type": "markdown",
      "source": [
        "### **Tolerance**\n",
        "Tolerance is the percentage of error between the actual measured resistive value and the stated value. This is due to the manufacturing process and it is expressed as a percentage of its preferred value"
      ],
      "metadata": {
        "id": "j9DaWRoxar3N"
      }
    },
    {
      "cell_type": "markdown",
      "source": [
        "### **Resistance calculation**\n",
        "To calculate the resistance value, you need to group the values of the significant digits bands — i.e., the values of the first two or three bands from the left, depending on the total number of bands. Then you need to multiply that value by the multiplier to get the resistance value of the resistor. You can use the [online resistance calculator](https://resistorcolorcodecalc.com/)"
      ],
      "metadata": {
        "id": "QuDAYnWcgt4j"
      }
    },
    {
      "cell_type": "markdown",
      "source": [
        "## **Circuits Diagram**"
      ],
      "metadata": {
        "id": "xJk49k4yhxS6"
      }
    },
    {
      "cell_type": "markdown",
      "source": [
        "![circuit_diagram](https://drive.google.com/uc?export=view&id=10VzpU_b_WMJPUW2zxbCqSHL1Y5b99TiU)"
      ],
      "metadata": {
        "id": "loWvqno_isEX"
      }
    },
    {
      "cell_type": "markdown",
      "source": [
        "# **Order of performance of the first laboratory work**\n",
        "1. Divide into groups of three.\n",
        "2. Consistently follow the items described in the report and complete the report.\n",
        "3. Upload your report into the moodle. **Each team member must upload a team report**.\n",
        "\n",
        "[Link on the report](https://docs.google.com/document/d/1C5vhM1EcJ35hXL-shxTaQ4o56fvQcPeU/edit?usp=sharing&ouid=114023358498041511244&rtpof=true&sd=true)"
      ],
      "metadata": {
        "id": "k0qupDdJhw5c"
      }
    }
  ]
}