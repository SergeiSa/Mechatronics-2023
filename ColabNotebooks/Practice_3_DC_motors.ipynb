{
  "nbformat": 4,
  "nbformat_minor": 0,
  "metadata": {
    "colab": {
      "provenance": [],
      "include_colab_link": true
    },
    "kernelspec": {
      "name": "python3",
      "display_name": "Python 3"
    },
    "language_info": {
      "name": "python"
    }
  },
  "cells": [
    {
      "cell_type": "markdown",
      "metadata": {
        "id": "view-in-github",
        "colab_type": "text"
      },
      "source": [
        "<a href=\"https://colab.research.google.com/github/SergeiSa/Mechatronics-2023/blob/main/ColabNotebooks/Practice_3_DC_motors.ipynb\" target=\"_parent\"><img src=\"https://colab.research.google.com/assets/colab-badge.svg\" alt=\"Open In Colab\"/></a>"
      ]
    },
    {
      "cell_type": "markdown",
      "source": [
        "# **DC motors**\n",
        "\n",
        "Goals for today:\n",
        "1. Recall the different DC motors types\n",
        "2. Simulate motor dynamics with no load and with load\n",
        "3. Evaluate motor power and efficiency"
      ],
      "metadata": {
        "id": "Cjo3NicuzFGu"
      }
    },
    {
      "cell_type": "markdown",
      "source": [
        "## **DC motors types**\n",
        "\n",
        "\n",
        "\n",
        "\n",
        "\n",
        "\n",
        "\n",
        "\n",
        "\n"
      ],
      "metadata": {
        "id": "LfO2V-aX1Gct"
      }
    },
    {
      "cell_type": "markdown",
      "source": [
        "### **1. Homopolar motor**\n",
        "\n",
        "![homopolar_1](https://drive.google.com/uc?export=view&id=1YiOaNkZqsLw3SLLvAzijwmgZuWYtd89A)\n",
        "\n",
        "A homopolar motor has a magnetic field along the axis of rotation and an electric current that at some point is not parallel to the magnetic field. The name homopolar refers to the absence of polarity change."
      ],
      "metadata": {
        "id": "tsNpGHlR8e-n"
      }
    },
    {
      "cell_type": "markdown",
      "source": [
        "### **2. Brushed DC motor (DC motor)**\n",
        "\n",
        "![dc_1](https://drive.google.com/uc?export=view&id=14XuXMaqvXKI64KODblj4P0gEvuN44o5S)![dc_2](https://drive.google.com/uc?export=view&id=1q0bvpfamr_GmfdHrXR3Aepc8Q8N-99Qe)\n",
        "\n",
        "The brushed DC electric motor generates torque directly from DC power supplied to the motor by using internal commutation, stationary magnets (permanent or electromagnets), and rotating electromagnets."
      ],
      "metadata": {
        "id": "5DSOEGnM8Rka"
      }
    },
    {
      "cell_type": "markdown",
      "source": [
        "### **3. Step motor**\n",
        "![step_1](https://upload.wikimedia.org/wikipedia/commons/thumb/9/93/Schrittmotorfoto.jpg/220px-Schrittmotorfoto.jpg) ![step_2](https://upload.wikimedia.org/wikipedia/commons/thumb/6/67/StepperMotor.gif/240px-StepperMotor.gif)\n",
        "\n",
        "A stepper motor, also known as step motor or stepping motor, is a brushless DC electric motor that divides a full rotation into a number of equal steps. The motor's position can be commanded to move and hold at one of these steps without any position sensor for feedback (an open-loop controller), as long as the motor is correctly sized to the application in respect to torque and speed.\n",
        "\n",
        "Switched reluctance motors are very large stepping motors with a reduced pole count, and generally are closed-loop commutated."
      ],
      "metadata": {
        "id": "eh0T7STOSNDn"
      }
    },
    {
      "cell_type": "markdown",
      "source": [
        "### **4. Brushless DC motor (BLDC motor)**\n",
        "\n",
        "![bldc_1](https://drive.google.com/uc?export=view&id=1-soZ5nIxfG9YarkdQDU_eRAWU5SQL9MX) ![bldc_2](https://drive.google.com/uc?export=view&id=109VwumH3Chq2ySrRzGa710zxm22l0974)\n",
        "\n",
        "Typical brushless DC motors use one or more permanent magnets in the rotor and electromagnets on the motor housing for the stator. A motor controller converts DC to AC.\n",
        "\n",
        "![bldc_3](https://drive.google.com/uc?export=view&id=1ajIqZW4ns3lYZpywcvKXLFaO1JYSOvd0) ![bldc_4](https://drive.google.com/uc?export=view&id=1zBwuCHX5jERNwdoe3WTeq7PZAAxY9vuc)"
      ],
      "metadata": {
        "id": "jvEhKx1k8VVg"
      }
    },
    {
      "cell_type": "markdown",
      "source": [
        "> **Questions**:\n",
        ">\n",
        ">  *  Describe advantages and disadvantages of each motor type\n",
        ">  *  What are the limitations of the homopolar motor?\n",
        ">  *  What is the fasters way to distinguish DC and BLDC motor?\n",
        ">  *  How can you kill a DC and BLDC motor?\n",
        "\n"
      ],
      "metadata": {
        "id": "2q42S09dJf4x"
      }
    },
    {
      "cell_type": "markdown",
      "source": [
        "## **Modeling DCX22L DC motor**\n",
        "\n",
        "![maxon](https://drive.google.com/uc?export=view&id=1OLNxXUw0P9shQAhxt0xajx1FLtizFVhO)"
      ],
      "metadata": {
        "id": "lbIPR_ZCYiit"
      }
    },
    {
      "cell_type": "markdown",
      "source": [
        "### **Math model**"
      ],
      "metadata": {
        "id": "Mie5NO1jZRvB"
      }
    },
    {
      "cell_type": "markdown",
      "source": [
        "![DC_motor_dynamics_1](https://drive.google.com/uc?export=view&id=1UXs0MrVIai-T9LKVrjWPnIYleZCtPJIM)"
      ],
      "metadata": {
        "id": "e_KeESUOZCwI"
      }
    },
    {
      "cell_type": "markdown",
      "source": [
        "![DC_motor_dynamics_2](https://drive.google.com/uc?export=view&id=1lmBudGUSgzdmajI7_1NMAIIga7ZQMP0i)"
      ],
      "metadata": {
        "id": "e4KWmXL_aumo"
      }
    },
    {
      "cell_type": "markdown",
      "source": [
        "> **Task**\n",
        ">\n",
        "> Derive an equations describing DC motor dynamics"
      ],
      "metadata": {
        "id": "n6zPMcfTawnK"
      }
    },
    {
      "cell_type": "markdown",
      "source": [
        "### **Simulation with no load**"
      ],
      "metadata": {
        "id": "uER0PMNkZ56S"
      }
    },
    {
      "cell_type": "markdown",
      "source": [
        "> **Tasks**\n",
        ">\n",
        "> 1. Simulate maxon DCX22L motor with no external load and using data from [official website](https://www.maxongroup.com/maxon/view/product/motor/dcmotor/DCX/DCX22/DCX22L01EBSL703). Assume that the motor viscous friction is equal $B_m = 6.5 \\cdot 10^{-7}$. Use the nominal voltage parameter as constant control signal. Simulation time is from 0 to 0.05 sec.\n",
        "> 2. Plot motor speed with motor nominal speed on one graph.\n",
        "> 3. Plot motor current with motor nominal current and motor stall current"
      ],
      "metadata": {
        "id": "ECEHoAeIZ_D_"
      }
    },
    {
      "cell_type": "code",
      "source": [
        "from matplotlib.pyplot import *\n",
        "from scipy.integrate import odeint\n",
        "import numpy as np\n",
        "from math import pi"
      ],
      "metadata": {
        "id": "jMZmW15nyn1P"
      },
      "execution_count": null,
      "outputs": []
    },
    {
      "cell_type": "code",
      "source": [
        "# Put your code here"
      ],
      "metadata": {
        "id": "4dEUsiv3vt1a"
      },
      "execution_count": null,
      "outputs": []
    },
    {
      "cell_type": "markdown",
      "source": [
        "## **Motor power and efficiency**"
      ],
      "metadata": {
        "id": "no2MjUjZ23_h"
      }
    },
    {
      "cell_type": "markdown",
      "source": [
        "> **Tasks**\n",
        ">\n",
        "> 1. Calculate the input electrical power, output power and power of losses on resistance on motor\n",
        "> 2. Plot this tree types of power on one graph vs time"
      ],
      "metadata": {
        "id": "eZVLyy493P3L"
      }
    },
    {
      "cell_type": "code",
      "source": [
        "# Put your code here"
      ],
      "metadata": {
        "id": "bk3bUYPj3w_f"
      },
      "execution_count": null,
      "outputs": []
    },
    {
      "cell_type": "markdown",
      "source": [
        "## **Simulation with different external load**"
      ],
      "metadata": {
        "id": "wJ3QHJp143DW"
      }
    },
    {
      "cell_type": "markdown",
      "source": [
        "> **Tasks**\n",
        ">\n",
        "> 1. Simulate motor dynamics with 5 different external loads from 0 to stall torque\n",
        "> 2. Plot the current with different external load. Add to the plot nominal current and stall current"
      ],
      "metadata": {
        "id": "00TIVRyg5Ggv"
      }
    },
    {
      "cell_type": "code",
      "source": [
        "# Put your code here"
      ],
      "metadata": {
        "id": "S-dEvE3S5wil"
      },
      "execution_count": null,
      "outputs": []
    }
  ]
}