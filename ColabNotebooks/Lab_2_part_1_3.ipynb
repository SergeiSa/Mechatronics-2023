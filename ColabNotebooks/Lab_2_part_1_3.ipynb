{
  "nbformat": 4,
  "nbformat_minor": 0,
  "metadata": {
    "colab": {
      "provenance": [],
      "include_colab_link": true
    },
    "kernelspec": {
      "name": "python3",
      "display_name": "Python 3"
    },
    "language_info": {
      "name": "python"
    }
  },
  "cells": [
    {
      "cell_type": "markdown",
      "metadata": {
        "id": "view-in-github",
        "colab_type": "text"
      },
      "source": [
        "<a href=\"https://colab.research.google.com/github/SergeiSa/Mechatronics-2023/blob/main/ColabNotebooks/Lab_2_part_1_3.ipynb\" target=\"_parent\"><img src=\"https://colab.research.google.com/assets/colab-badge.svg\" alt=\"Open In Colab\"/></a>"
      ]
    },
    {
      "cell_type": "markdown",
      "source": [
        "# **Lab 2. Electrical motors**\n"
      ],
      "metadata": {
        "id": "jjRqx62qQWUL"
      }
    },
    {
      "cell_type": "markdown",
      "source": [
        "The objectives of today's lab:\n",
        "\n",
        "*  To learn how to control DC motors\n",
        "*  To learn how to code esp32\n",
        "*  To learn how to get data about revolute angle from incremental encoder\n",
        "*  To learn how to control step motors"
      ],
      "metadata": {
        "id": "dMSL0O3MQeei"
      }
    },
    {
      "cell_type": "markdown",
      "source": [
        "## **Lab hardware**"
      ],
      "metadata": {
        "id": "ehTHDmEwVN-T"
      }
    },
    {
      "cell_type": "markdown",
      "source": [
        "### **DC motor with Hall sensor**\n",
        "We will use the motor **ASLONG DC motor jga25-371-12v-95rpm**. The documentation for this motor avalible by the link: http://www.aslong.net/en/h-pd-65.html\n",
        "\n",
        "![dc-motor](https://drive.google.com/uc?export=view&id=1UdnKQV0QU7gqCNMT12QFhZMBq2qqG9av)"
      ],
      "metadata": {
        "id": "hbmkX3-AVO-r"
      }
    },
    {
      "cell_type": "markdown",
      "source": [
        "### **Step motor**\n",
        "We will use the motor **17HS4401**.\n",
        "\n",
        "![dc-motor](https://j5d2v7d7.stackpathcdn.com/wp-content/uploads/2016/04/17HS4401-datasheet-pdf.gif)\n",
        "\n",
        "Motor wiring:\n",
        "1. Red: A+\n",
        "2. Yellow: B+\n",
        "3. Gray: A-\n",
        "4. Green: B-"
      ],
      "metadata": {
        "id": "X8S9ERIUVVoH"
      }
    },
    {
      "cell_type": "markdown",
      "source": [
        "### **ESP32**\n",
        "We will use the **esp32-wroom-32u**. The documentation on this microcontroller avalible by the links https://aliexpress.ru/item/1005004392936560.html?sku_id=12000029020449515 and https://www.espressif.com/sites/default/files/documentation/esp32-wroom-32d_esp32-wroom-32u_datasheet_en.pdf"
      ],
      "metadata": {
        "id": "e71G-fwYVRBZ"
      }
    },
    {
      "cell_type": "markdown",
      "source": [
        "## **Lab software**\n",
        "\n",
        "We will use [Micropython](https://docs.micropython.org/en/latest/library/index.html) to read data from the encoder on motor by [esp32](https://en.wikipedia.org/wiki/ESP32)\n",
        "\n",
        "Also you need to install following tools:\n",
        "*  [esptool](https://micropython.org/download/esp32/)\n",
        "*  [rshell](https://github.com/dhylands/rshell)\n",
        "*  [picocom](https://github.com/npat-efault/picocom)"
      ],
      "metadata": {
        "id": "2-2nYkKGW77j"
      }
    },
    {
      "cell_type": "markdown",
      "source": [
        "### **Setup ESP32**"
      ],
      "metadata": {
        "id": "k8rhuyWg9ucW"
      }
    },
    {
      "cell_type": "markdown",
      "source": [
        "1. Connect esp32 board to computer by microUSB\n",
        "2. Check connection in terminal by\n",
        "```\n",
        "ls /dev/ttyUSB*\n",
        "```\n",
        "possible answer on this command: ```/dev/ttyUSB0```\n",
        "3. Install esptool:\n",
        "```\n",
        "pip install esptool\n",
        "```\n",
        "4. If you are putting MicroPython on your board for the first time then you should first erase the entire flash using:\n",
        "```\n",
        "esptool.py --chip esp32 --port /dev/ttyUSB0 erase_flash\n",
        "```\n",
        "5. Download latest firmware release from https://micropython.org/download/esp32/\n",
        "6. From then on program the firmware starting at address 0x1000:\n",
        "```\n",
        "esptool.py --chip esp32 --port /dev/ttyUSB0 --baud 460800 write_flash -z 0x1000 esp32-20220618-v1.19.1.bin\n",
        "```\n",
        "7. After that install rshell:\n",
        "```\n",
        "pip install rshell\n",
        "```\n",
        "8. Also install picocom for reading output from serial port:\n",
        "```\n",
        "sudo apt-get install picocom\n",
        "```"
      ],
      "metadata": {
        "id": "jDoQc-yH_V1O"
      }
    },
    {
      "cell_type": "markdown",
      "source": [
        "### **How to write code, upload it on ESP32 and get results by serial port**\n",
        "\n",
        "You can write code in any avalible IDE on your computer. Take into account that Micropython operate with certain python modules. You can find a list of them on the website https://docs.micropython.org/en/latest/library/index.html#python-standard-libraries-and-micro-libraries\n",
        "\n",
        "Also specific methods for ESP32 exists in Micropython. The documentation avalible by the link https://docs.micropython.org/en/latest/esp32/quickref.html#real-time-clock-rtc\n",
        "\n",
        "Code uploading step-by-step:\n",
        "1. When you have written the code, save it as a `.py` extension to your computer.\n",
        "2. Open terminal and write following command:\n",
        "```\n",
        "sudo rshell -p /dev/ttyUSB0 -b 115200\n",
        "```\n",
        "3. Copy code from your computer to the board:\n",
        "```\n",
        "cp PATH_TO_CODE/CODE_NAME.py /pyboard/main.py\n",
        "```\n",
        "4. Press `Ctrl+C` to quit rshell\n",
        "5. Go to the serial port via picocom to receive data from the board:\n",
        "```\n",
        "sudo picocom /dev/ttyUSB0 -b 115200\n",
        "```\n",
        "6. Press `Ctrl+D` to boot the board and update firmware\n",
        "7. Press `Ctrl+A` and `Ctrl+X` to quit from picocom"
      ],
      "metadata": {
        "id": "XhY8tZ5MLaa9"
      }
    },
    {
      "cell_type": "markdown",
      "source": [
        "## **Lab tasks**"
      ],
      "metadata": {
        "id": "JThB_R_5qF8_"
      }
    },
    {
      "cell_type": "markdown",
      "source": [
        "Do the lab work, remembering to record intermediate results in the report. The report should be done for the group, but each student should upload the report into a moodle."
      ],
      "metadata": {
        "id": "jun6vV2QrxTO"
      }
    },
    {
      "cell_type": "markdown",
      "source": [
        "### **Part 1. DC motor**\n",
        "1. Connect the motor to a source and find the minimum voltage and current at which the motor will start to turn. Measure the voltage and current 10 times and calculate the average. Explain the nature of the minimum voltage and current values obtained.\n",
        "2. Set the motor voltage to 6V. Measure the time it takes the motor to make 10 revolutions. Repeat the measurement 10 times. Then repeat the steps for 9V and 12V voltages. Plot the relationship between voltage and motor speed. Try to combine the measurement results linearly. What conclusions can be drawn from the resulting graph?\n",
        "3. Swap the plus and minus contacts of the motor. What has changed in the behavior of the motor? Repeat step 2 with the new type of motor connection."
      ],
      "metadata": {
        "id": "dKL6U1Z3qUva"
      }
    },
    {
      "cell_type": "markdown",
      "source": [
        "### **Part 2. ESP microcontroller**\n",
        "Write a code for ESP that outputs the string `\"Hello world!\"` to the com port with a delay of 0.1 sec. Write a program on your computer that reads information from the com port using the `serial` library. Make screenshots demonstrating the work of your scripts"
      ],
      "metadata": {
        "id": "ByRZqSJAunqc"
      }
    },
    {
      "cell_type": "markdown",
      "source": [
        "### **Part 3. Stepper motor**\n",
        "1. Assemble a circuit consisting of a motor stepper, a driver and an ESP32 microcontroller. Take a photo of the circuit.\n",
        "![step_motor](https://3d-diy.ru/upload/resize_cache/webp/upload/medialibrary/95b/driver-a4988-chema.webp)\n",
        "2. Write a program that scrolls the motor first one turn forward and then backward at a given speed. Take a video of the motor running with the given program.\n",
        "3. Сonfigure the sending of the current time on the microcontroller and the angle of the motor through the com port. The current time on the microcontroller can be obtained using the `perf_counter()` method from `time` library. Read this data and plot the motor angle versus time. Do steps 2 and 3 on the voltage for the 12v motor.\n",
        "4. Connect the motor driver to a source and find the minimum voltage and current at which the motor will start to turn. Measure the voltage and current 10 times and calculate the average. Explain the nature of the minimum voltage and current values obtained.\n",
        "5. Set the loop voltage to 6V, take data from 3 forward-backward rotations of the motor. Repeat this step for 9V and 12V voltages. Combine all measurement results on one graph. What conclusions can be drawn from the experimental results?\n"
      ],
      "metadata": {
        "id": "oHHbFvV54Rh5"
      }
    }
  ]
}